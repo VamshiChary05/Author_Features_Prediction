{
 "cells": [
  {
   "cell_type": "markdown",
   "id": "e8226aa1",
   "metadata": {},
   "source": [
    "# NLP Project"
   ]
  },
  {
   "cell_type": "markdown",
   "id": "e1906c61",
   "metadata": {},
   "source": [
    "# Author Features Prediction"
   ]
  },
  {
   "cell_type": "markdown",
   "id": "9c30d8e5",
   "metadata": {},
   "source": [
    "## Description\n",
    "Classification is probably the most popular task that you would deal with in real life.\n",
    "\n",
    "Text in the form of blogs, posts, articles, etc. is written every second. It is a challenge to predict the information \n",
    "about the writer without knowing about him/her. \n",
    "\n",
    "We are going to create a classifier that predicts multiple features of the author of a given text.\n",
    "\n",
    "We have designed it as a Multilabel classification problem"
   ]
  },
  {
   "cell_type": "markdown",
   "id": "2abcbf01",
   "metadata": {},
   "source": [
    "## Dataset\n",
    "\n",
    "Blog Authorship Corpus\n",
    "Over 600,000 posts from more than 19 thousand bloggers\n",
    "\n",
    "The Blog Authorship Corpus consists of the collected posts of 19,320 bloggers gathered from blogger.com in \n",
    "August 2004. The corpus incorporates a total of 681,288 posts and over 140 million words - or approximately \n",
    "35 posts and 7250 words per person.\n",
    "\n",
    "Each blog is presented as a separate file, the name of which indicates a blogger id and the blogger’s self - provided gender, age, industry, and astrological sign. (All are labelled for gender and age but for many, industry \n",
    "and/or sign is marked as unknown.)\n",
    "\n",
    "All bloggers included in the corpus fall into one of three age groups:\n",
    "\n",
    "8240 \"10s\" blogs (ages 13-17)\n",
    "\n",
    "8086 \"20s\" blogs(ages 23-27)\n",
    "\n",
    "2994 \"30s\" blogs (ages 33-47)\n",
    "\n",
    "For each age group, there is an equal number of male and female bloggers.\n",
    "\n",
    "Each blog in the corpus includes at least 200 occurrences of common English words. All formatting has been \n",
    "stripped with two exceptions. Individual posts within a single blogger are separated by the date of the following \n",
    "post and links within a post are denoted by the label urllink.\n"
   ]
  },
  {
   "cell_type": "markdown",
   "id": "764a7a24",
   "metadata": {},
   "source": [
    "## 1. Load the dataset "
   ]
  },
  {
   "cell_type": "code",
   "execution_count": 1,
   "id": "50924320",
   "metadata": {},
   "outputs": [],
   "source": [
    "import pandas as pd\n",
    "import numpy as np\n",
    "import matplotlib.pyplot as plt\n",
    "import re\n",
    "import nltk\n",
    "from nltk.corpus import stopwords\n",
    "from warnings import filterwarnings\n",
    "filterwarnings('ignore')\n",
    "from sklearn.model_selection import train_test_split\n",
    "from sklearn.feature_extraction.text import CountVectorizer\n",
    "from sklearn.preprocessing import MultiLabelBinarizer\n",
    "from sklearn.multiclass import OneVsRestClassifier\n",
    "from sklearn.linear_model import LogisticRegression\n",
    "from sklearn.metrics import accuracy_score\n",
    "from sklearn.metrics import f1_score\n",
    "from sklearn.metrics import average_precision_score\n",
    "from sklearn.metrics import recall_score"
   ]
  },
  {
   "cell_type": "code",
   "execution_count": 2,
   "id": "0eac4d7e",
   "metadata": {},
   "outputs": [
    {
     "data": {
      "text/html": [
       "<div>\n",
       "<style scoped>\n",
       "    .dataframe tbody tr th:only-of-type {\n",
       "        vertical-align: middle;\n",
       "    }\n",
       "\n",
       "    .dataframe tbody tr th {\n",
       "        vertical-align: top;\n",
       "    }\n",
       "\n",
       "    .dataframe thead th {\n",
       "        text-align: right;\n",
       "    }\n",
       "</style>\n",
       "<table border=\"1\" class=\"dataframe\">\n",
       "  <thead>\n",
       "    <tr style=\"text-align: right;\">\n",
       "      <th></th>\n",
       "      <th>id</th>\n",
       "      <th>gender</th>\n",
       "      <th>age</th>\n",
       "      <th>topic</th>\n",
       "      <th>sign</th>\n",
       "      <th>date</th>\n",
       "      <th>text</th>\n",
       "    </tr>\n",
       "  </thead>\n",
       "  <tbody>\n",
       "    <tr>\n",
       "      <th>0</th>\n",
       "      <td>2059027</td>\n",
       "      <td>male</td>\n",
       "      <td>15</td>\n",
       "      <td>Student</td>\n",
       "      <td>Leo</td>\n",
       "      <td>14,May,2004</td>\n",
       "      <td>Info has been found (+/- 100 pages,...</td>\n",
       "    </tr>\n",
       "    <tr>\n",
       "      <th>1</th>\n",
       "      <td>2059027</td>\n",
       "      <td>male</td>\n",
       "      <td>15</td>\n",
       "      <td>Student</td>\n",
       "      <td>Leo</td>\n",
       "      <td>13,May,2004</td>\n",
       "      <td>These are the team members:   Drewe...</td>\n",
       "    </tr>\n",
       "    <tr>\n",
       "      <th>2</th>\n",
       "      <td>2059027</td>\n",
       "      <td>male</td>\n",
       "      <td>15</td>\n",
       "      <td>Student</td>\n",
       "      <td>Leo</td>\n",
       "      <td>12,May,2004</td>\n",
       "      <td>In het kader van kernfusie op aarde...</td>\n",
       "    </tr>\n",
       "    <tr>\n",
       "      <th>3</th>\n",
       "      <td>2059027</td>\n",
       "      <td>male</td>\n",
       "      <td>15</td>\n",
       "      <td>Student</td>\n",
       "      <td>Leo</td>\n",
       "      <td>12,May,2004</td>\n",
       "      <td>testing!!!  testing!!!</td>\n",
       "    </tr>\n",
       "    <tr>\n",
       "      <th>4</th>\n",
       "      <td>3581210</td>\n",
       "      <td>male</td>\n",
       "      <td>33</td>\n",
       "      <td>InvestmentBanking</td>\n",
       "      <td>Aquarius</td>\n",
       "      <td>11,June,2004</td>\n",
       "      <td>Thanks to Yahoo!'s Toolbar I can ...</td>\n",
       "    </tr>\n",
       "  </tbody>\n",
       "</table>\n",
       "</div>"
      ],
      "text/plain": [
       "        id gender  age              topic      sign          date  \\\n",
       "0  2059027   male   15            Student       Leo   14,May,2004   \n",
       "1  2059027   male   15            Student       Leo   13,May,2004   \n",
       "2  2059027   male   15            Student       Leo   12,May,2004   \n",
       "3  2059027   male   15            Student       Leo   12,May,2004   \n",
       "4  3581210   male   33  InvestmentBanking  Aquarius  11,June,2004   \n",
       "\n",
       "                                                text  \n",
       "0             Info has been found (+/- 100 pages,...  \n",
       "1             These are the team members:   Drewe...  \n",
       "2             In het kader van kernfusie op aarde...  \n",
       "3                   testing!!!  testing!!!            \n",
       "4               Thanks to Yahoo!'s Toolbar I can ...  "
      ]
     },
     "execution_count": 2,
     "metadata": {},
     "output_type": "execute_result"
    }
   ],
   "source": [
    "df = pd.read_csv('blogtext.csv')\n",
    "df.head()"
   ]
  },
  {
   "cell_type": "code",
   "execution_count": 3,
   "id": "9920e6a6",
   "metadata": {},
   "outputs": [
    {
     "data": {
      "text/plain": [
       "Index(['id', 'gender', 'age', 'topic', 'sign', 'date', 'text'], dtype='object')"
      ]
     },
     "execution_count": 3,
     "metadata": {},
     "output_type": "execute_result"
    }
   ],
   "source": [
    "df.columns"
   ]
  },
  {
   "cell_type": "markdown",
   "id": "b22bcc1a",
   "metadata": {},
   "source": [
    "#### Checking Dimension"
   ]
  },
  {
   "cell_type": "code",
   "execution_count": 4,
   "id": "1adbdea5",
   "metadata": {},
   "outputs": [
    {
     "data": {
      "text/plain": [
       "(681284, 7)"
      ]
     },
     "execution_count": 4,
     "metadata": {},
     "output_type": "execute_result"
    }
   ],
   "source": [
    "df.shape"
   ]
  },
  {
   "cell_type": "markdown",
   "id": "ddb46838",
   "metadata": {},
   "source": [
    "#### Checking for null values"
   ]
  },
  {
   "cell_type": "code",
   "execution_count": 5,
   "id": "600c27c9",
   "metadata": {},
   "outputs": [
    {
     "data": {
      "text/html": [
       "<div>\n",
       "<style scoped>\n",
       "    .dataframe tbody tr th:only-of-type {\n",
       "        vertical-align: middle;\n",
       "    }\n",
       "\n",
       "    .dataframe tbody tr th {\n",
       "        vertical-align: top;\n",
       "    }\n",
       "\n",
       "    .dataframe thead th {\n",
       "        text-align: right;\n",
       "    }\n",
       "</style>\n",
       "<table border=\"1\" class=\"dataframe\">\n",
       "  <thead>\n",
       "    <tr style=\"text-align: right;\">\n",
       "      <th></th>\n",
       "      <th>Total</th>\n",
       "      <th>Percentage of Missing Values</th>\n",
       "    </tr>\n",
       "  </thead>\n",
       "  <tbody>\n",
       "    <tr>\n",
       "      <th>id</th>\n",
       "      <td>0</td>\n",
       "      <td>0.0</td>\n",
       "    </tr>\n",
       "    <tr>\n",
       "      <th>gender</th>\n",
       "      <td>0</td>\n",
       "      <td>0.0</td>\n",
       "    </tr>\n",
       "    <tr>\n",
       "      <th>age</th>\n",
       "      <td>0</td>\n",
       "      <td>0.0</td>\n",
       "    </tr>\n",
       "    <tr>\n",
       "      <th>topic</th>\n",
       "      <td>0</td>\n",
       "      <td>0.0</td>\n",
       "    </tr>\n",
       "    <tr>\n",
       "      <th>sign</th>\n",
       "      <td>0</td>\n",
       "      <td>0.0</td>\n",
       "    </tr>\n",
       "    <tr>\n",
       "      <th>date</th>\n",
       "      <td>0</td>\n",
       "      <td>0.0</td>\n",
       "    </tr>\n",
       "    <tr>\n",
       "      <th>text</th>\n",
       "      <td>0</td>\n",
       "      <td>0.0</td>\n",
       "    </tr>\n",
       "  </tbody>\n",
       "</table>\n",
       "</div>"
      ],
      "text/plain": [
       "        Total  Percentage of Missing Values\n",
       "id          0                           0.0\n",
       "gender      0                           0.0\n",
       "age         0                           0.0\n",
       "topic       0                           0.0\n",
       "sign        0                           0.0\n",
       "date        0                           0.0\n",
       "text        0                           0.0"
      ]
     },
     "execution_count": 5,
     "metadata": {},
     "output_type": "execute_result"
    }
   ],
   "source": [
    "Total = df.isnull().sum().sort_values(ascending=False)  \n",
    "Percent = (df.isnull().sum()*100/df.isnull().count()).sort_values(ascending=False)\n",
    "missing_data = pd.concat([Total, Percent], axis = 1, keys = ['Total', 'Percentage of Missing Values'])    \n",
    "missing_data"
   ]
  },
  {
   "cell_type": "markdown",
   "id": "7e78514e",
   "metadata": {},
   "source": [
    "There are no missing values in the data."
   ]
  },
  {
   "cell_type": "markdown",
   "id": "457e4cbd",
   "metadata": {},
   "source": [
    "##### As mentioned in the problem statement: \"As the dataset is large, use fewer rows. Check what is working well on your machine and decide accordingly\" I have decided to take first 7000 rows for the further analysis. "
   ]
  },
  {
   "cell_type": "code",
   "execution_count": 6,
   "id": "bdd7cca3",
   "metadata": {},
   "outputs": [],
   "source": [
    "df = df.head(7000)"
   ]
  },
  {
   "cell_type": "markdown",
   "id": "0543240a",
   "metadata": {},
   "source": [
    "## 2. Preprocess rows of the “text” column"
   ]
  },
  {
   "cell_type": "markdown",
   "id": "fe28f2dc",
   "metadata": {},
   "source": [
    "- Remove unwanted characters\n",
    "- Convert text to lowercase\n",
    "- Remove unwanted spaces\n",
    "- Remove stopwords"
   ]
  },
  {
   "cell_type": "code",
   "execution_count": 7,
   "id": "38c0d68b",
   "metadata": {},
   "outputs": [],
   "source": [
    "df.text = df.text.apply(lambda x: re.sub('[^A-Za-z]+', ' ', x))\n",
    "df.text = df.text.apply(lambda x: x.lower())\n",
    "df.text = df.text.apply(lambda x: x.strip())"
   ]
  },
  {
   "cell_type": "code",
   "execution_count": 8,
   "id": "fb83d7c1",
   "metadata": {},
   "outputs": [
    {
     "name": "stderr",
     "output_type": "stream",
     "text": [
      "[nltk_data] Downloading package stopwords to\n",
      "[nltk_data]     C:\\Users\\Pooja\\AppData\\Roaming\\nltk_data...\n",
      "[nltk_data]   Unzipping corpora\\stopwords.zip.\n"
     ]
    }
   ],
   "source": [
    "nltk.download('stopwords')\n",
    "stopwords = set(stopwords.words('english'))\n",
    "df.text = df.text.apply(lambda x: ' '.join([word for word in x.split() if word not in stopwords]))"
   ]
  },
  {
   "cell_type": "code",
   "execution_count": 9,
   "id": "133927ec",
   "metadata": {},
   "outputs": [
    {
     "data": {
      "text/plain": [
       "'anything korea country extremes everything seems fad based think may come korea history invaded reported times years time got independence imagine move quickly get next level next war occupation lately well really lately japanese occupation ended korean war occurred turmoil park chung hee took dictator president elections everyone encouraged vote still dictator assassination next leaders basically ilk president park amazing things time however took incredibly backward country set road industrialization japan stripped korea resources people even language culture many buildings palaces razed japanese official language president park determined change orchestrated han river miracle han river hangang main river seoul korea korea made terrific strides expense civil liberties fastforward present point see korea world wired nation canada finland way beyond u craze pc pc bangs rooms everywhere country well instead playstation like games players go computer one two people korean gamers always communal types play online games hundreds thousands others typical korean fashion gamers left seat second could pause game fact may eliminated pcbang owners sold drinks ramen nooodles junk clientele matter time someone died related urllink article yes someone died pc people thought sleeping imagine long really checked alas first known casulty net korea maybe world korea built extremes good bad'"
      ]
     },
     "execution_count": 9,
     "metadata": {},
     "output_type": "execute_result"
    }
   ],
   "source": [
    "df.text[7]"
   ]
  },
  {
   "cell_type": "markdown",
   "id": "16d7231f",
   "metadata": {},
   "source": [
    "# 3. Merge the label columns"
   ]
  },
  {
   "cell_type": "markdown",
   "id": "0af40c8e",
   "metadata": {},
   "source": [
    "#### a. Label columns to merge: “gender”, “age”, “topic”, “sign”"
   ]
  },
  {
   "cell_type": "code",
   "execution_count": 10,
   "id": "8e897538",
   "metadata": {},
   "outputs": [],
   "source": [
    "df['labels'] = df.apply(lambda row: [row['gender'], str(row['age']), row['topic'], row['sign']], axis=1)"
   ]
  },
  {
   "cell_type": "markdown",
   "id": "c360fe57",
   "metadata": {},
   "source": [
    "#### b. After completing the previous step, there should be only two columns in your data frame i.e. “text” and “labels” as shown in the below image"
   ]
  },
  {
   "cell_type": "code",
   "execution_count": 11,
   "id": "1a36da6f",
   "metadata": {},
   "outputs": [
    {
     "data": {
      "text/html": [
       "<div>\n",
       "<style scoped>\n",
       "    .dataframe tbody tr th:only-of-type {\n",
       "        vertical-align: middle;\n",
       "    }\n",
       "\n",
       "    .dataframe tbody tr th {\n",
       "        vertical-align: top;\n",
       "    }\n",
       "\n",
       "    .dataframe thead th {\n",
       "        text-align: right;\n",
       "    }\n",
       "</style>\n",
       "<table border=\"1\" class=\"dataframe\">\n",
       "  <thead>\n",
       "    <tr style=\"text-align: right;\">\n",
       "      <th></th>\n",
       "      <th>id</th>\n",
       "      <th>gender</th>\n",
       "      <th>age</th>\n",
       "      <th>topic</th>\n",
       "      <th>sign</th>\n",
       "      <th>date</th>\n",
       "      <th>text</th>\n",
       "      <th>labels</th>\n",
       "    </tr>\n",
       "  </thead>\n",
       "  <tbody>\n",
       "    <tr>\n",
       "      <th>0</th>\n",
       "      <td>2059027</td>\n",
       "      <td>male</td>\n",
       "      <td>15</td>\n",
       "      <td>Student</td>\n",
       "      <td>Leo</td>\n",
       "      <td>14,May,2004</td>\n",
       "      <td>info found pages mb pdf files wait untill team...</td>\n",
       "      <td>[male, 15, Student, Leo]</td>\n",
       "    </tr>\n",
       "    <tr>\n",
       "      <th>1</th>\n",
       "      <td>2059027</td>\n",
       "      <td>male</td>\n",
       "      <td>15</td>\n",
       "      <td>Student</td>\n",
       "      <td>Leo</td>\n",
       "      <td>13,May,2004</td>\n",
       "      <td>team members drewes van der laag urllink mail ...</td>\n",
       "      <td>[male, 15, Student, Leo]</td>\n",
       "    </tr>\n",
       "    <tr>\n",
       "      <th>2</th>\n",
       "      <td>2059027</td>\n",
       "      <td>male</td>\n",
       "      <td>15</td>\n",
       "      <td>Student</td>\n",
       "      <td>Leo</td>\n",
       "      <td>12,May,2004</td>\n",
       "      <td>het kader van kernfusie op aarde maak je eigen...</td>\n",
       "      <td>[male, 15, Student, Leo]</td>\n",
       "    </tr>\n",
       "    <tr>\n",
       "      <th>3</th>\n",
       "      <td>2059027</td>\n",
       "      <td>male</td>\n",
       "      <td>15</td>\n",
       "      <td>Student</td>\n",
       "      <td>Leo</td>\n",
       "      <td>12,May,2004</td>\n",
       "      <td>testing testing</td>\n",
       "      <td>[male, 15, Student, Leo]</td>\n",
       "    </tr>\n",
       "    <tr>\n",
       "      <th>4</th>\n",
       "      <td>3581210</td>\n",
       "      <td>male</td>\n",
       "      <td>33</td>\n",
       "      <td>InvestmentBanking</td>\n",
       "      <td>Aquarius</td>\n",
       "      <td>11,June,2004</td>\n",
       "      <td>thanks yahoo toolbar capture urls popups means...</td>\n",
       "      <td>[male, 33, InvestmentBanking, Aquarius]</td>\n",
       "    </tr>\n",
       "  </tbody>\n",
       "</table>\n",
       "</div>"
      ],
      "text/plain": [
       "        id gender  age              topic      sign          date  \\\n",
       "0  2059027   male   15            Student       Leo   14,May,2004   \n",
       "1  2059027   male   15            Student       Leo   13,May,2004   \n",
       "2  2059027   male   15            Student       Leo   12,May,2004   \n",
       "3  2059027   male   15            Student       Leo   12,May,2004   \n",
       "4  3581210   male   33  InvestmentBanking  Aquarius  11,June,2004   \n",
       "\n",
       "                                                text  \\\n",
       "0  info found pages mb pdf files wait untill team...   \n",
       "1  team members drewes van der laag urllink mail ...   \n",
       "2  het kader van kernfusie op aarde maak je eigen...   \n",
       "3                                    testing testing   \n",
       "4  thanks yahoo toolbar capture urls popups means...   \n",
       "\n",
       "                                    labels  \n",
       "0                 [male, 15, Student, Leo]  \n",
       "1                 [male, 15, Student, Leo]  \n",
       "2                 [male, 15, Student, Leo]  \n",
       "3                 [male, 15, Student, Leo]  \n",
       "4  [male, 33, InvestmentBanking, Aquarius]  "
      ]
     },
     "execution_count": 11,
     "metadata": {},
     "output_type": "execute_result"
    }
   ],
   "source": [
    "df.head()"
   ]
  },
  {
   "cell_type": "markdown",
   "id": "b539f080",
   "metadata": {},
   "source": [
    "## 4. Separate features and labels, and split the data into training and testing "
   ]
  },
  {
   "cell_type": "code",
   "execution_count": 12,
   "id": "22a62da2",
   "metadata": {},
   "outputs": [],
   "source": [
    "df = df[['text','labels']]"
   ]
  },
  {
   "cell_type": "code",
   "execution_count": 13,
   "id": "80eaea12",
   "metadata": {},
   "outputs": [
    {
     "data": {
      "text/html": [
       "<div>\n",
       "<style scoped>\n",
       "    .dataframe tbody tr th:only-of-type {\n",
       "        vertical-align: middle;\n",
       "    }\n",
       "\n",
       "    .dataframe tbody tr th {\n",
       "        vertical-align: top;\n",
       "    }\n",
       "\n",
       "    .dataframe thead th {\n",
       "        text-align: right;\n",
       "    }\n",
       "</style>\n",
       "<table border=\"1\" class=\"dataframe\">\n",
       "  <thead>\n",
       "    <tr style=\"text-align: right;\">\n",
       "      <th></th>\n",
       "      <th>text</th>\n",
       "      <th>labels</th>\n",
       "    </tr>\n",
       "  </thead>\n",
       "  <tbody>\n",
       "    <tr>\n",
       "      <th>0</th>\n",
       "      <td>info found pages mb pdf files wait untill team...</td>\n",
       "      <td>[male, 15, Student, Leo]</td>\n",
       "    </tr>\n",
       "    <tr>\n",
       "      <th>1</th>\n",
       "      <td>team members drewes van der laag urllink mail ...</td>\n",
       "      <td>[male, 15, Student, Leo]</td>\n",
       "    </tr>\n",
       "    <tr>\n",
       "      <th>2</th>\n",
       "      <td>het kader van kernfusie op aarde maak je eigen...</td>\n",
       "      <td>[male, 15, Student, Leo]</td>\n",
       "    </tr>\n",
       "    <tr>\n",
       "      <th>3</th>\n",
       "      <td>testing testing</td>\n",
       "      <td>[male, 15, Student, Leo]</td>\n",
       "    </tr>\n",
       "    <tr>\n",
       "      <th>4</th>\n",
       "      <td>thanks yahoo toolbar capture urls popups means...</td>\n",
       "      <td>[male, 33, InvestmentBanking, Aquarius]</td>\n",
       "    </tr>\n",
       "  </tbody>\n",
       "</table>\n",
       "</div>"
      ],
      "text/plain": [
       "                                                text  \\\n",
       "0  info found pages mb pdf files wait untill team...   \n",
       "1  team members drewes van der laag urllink mail ...   \n",
       "2  het kader van kernfusie op aarde maak je eigen...   \n",
       "3                                    testing testing   \n",
       "4  thanks yahoo toolbar capture urls popups means...   \n",
       "\n",
       "                                    labels  \n",
       "0                 [male, 15, Student, Leo]  \n",
       "1                 [male, 15, Student, Leo]  \n",
       "2                 [male, 15, Student, Leo]  \n",
       "3                 [male, 15, Student, Leo]  \n",
       "4  [male, 33, InvestmentBanking, Aquarius]  "
      ]
     },
     "execution_count": 13,
     "metadata": {},
     "output_type": "execute_result"
    }
   ],
   "source": [
    "df.head()"
   ]
  },
  {
   "cell_type": "markdown",
   "id": "3b3266c2",
   "metadata": {},
   "source": [
    "### Train_test_split"
   ]
  },
  {
   "cell_type": "code",
   "execution_count": 14,
   "id": "be09a54b",
   "metadata": {},
   "outputs": [],
   "source": [
    "X = df.text.values\n",
    "y = df.labels.values"
   ]
  },
  {
   "cell_type": "code",
   "execution_count": 15,
   "id": "08f1a124",
   "metadata": {},
   "outputs": [],
   "source": [
    "X_train, X_test, y_train, y_test = train_test_split(X, y, test_size=0.2, random_state=5)"
   ]
  },
  {
   "cell_type": "code",
   "execution_count": 16,
   "id": "90809e7d",
   "metadata": {},
   "outputs": [
    {
     "name": "stdout",
     "output_type": "stream",
     "text": [
      "X_train shape: (5600,)\n",
      "X_test shape: (1400,)\n",
      "y_train shape: (5600,)\n",
      "y_test shape: (1400,)\n"
     ]
    }
   ],
   "source": [
    "print('X_train shape:', X_train.shape)\n",
    "print('X_test shape:', X_test.shape)\n",
    "print('y_train shape:', y_train.shape)\n",
    "print('y_test shape:', y_test.shape)"
   ]
  },
  {
   "cell_type": "markdown",
   "id": "4e49a6df",
   "metadata": {},
   "source": [
    "## 5. Vectorize the features"
   ]
  },
  {
   "cell_type": "markdown",
   "id": "0fb9dc05",
   "metadata": {},
   "source": [
    "### a. Create Bag of Words\n",
    "- Use CountVectorizer\n",
    "- Transform the training and testing data"
   ]
  },
  {
   "cell_type": "code",
   "execution_count": 17,
   "id": "6bb388a9",
   "metadata": {},
   "outputs": [],
   "source": [
    "vectorizer = CountVectorizer(binary=True, ngram_range=(1, 2))\n",
    "X_train_cv = vectorizer.fit_transform(X_train)\n",
    "X_test_cv = vectorizer.transform(X_test)"
   ]
  },
  {
   "cell_type": "code",
   "execution_count": 18,
   "id": "dec7912e",
   "metadata": {},
   "outputs": [
    {
     "data": {
      "text/plain": [
       "<5600x345819 sparse matrix of type '<class 'numpy.int64'>'\n",
       "\twith 702412 stored elements in Compressed Sparse Row format>"
      ]
     },
     "execution_count": 18,
     "metadata": {},
     "output_type": "execute_result"
    }
   ],
   "source": [
    "X_train_cv"
   ]
  },
  {
   "cell_type": "code",
   "execution_count": 19,
   "id": "47a04796",
   "metadata": {},
   "outputs": [
    {
     "data": {
      "text/plain": [
       "['aa', 'aa anger', 'aa compared', 'aa nice', 'aaa']"
      ]
     },
     "execution_count": 19,
     "metadata": {},
     "output_type": "execute_result"
    }
   ],
   "source": [
    "vectorizer.get_feature_names()[:5]"
   ]
  },
  {
   "cell_type": "markdown",
   "id": "08adb1ce",
   "metadata": {},
   "source": [
    "#### b. Print the term-document matrix"
   ]
  },
  {
   "cell_type": "code",
   "execution_count": 20,
   "id": "7776dedc",
   "metadata": {},
   "outputs": [
    {
     "data": {
      "text/plain": [
       "array([[0, 0, 0, ..., 0, 0, 0],\n",
       "       [0, 0, 0, ..., 0, 0, 0],\n",
       "       [0, 0, 0, ..., 0, 0, 0],\n",
       "       ...,\n",
       "       [0, 0, 0, ..., 0, 0, 0],\n",
       "       [0, 0, 0, ..., 0, 0, 0],\n",
       "       [0, 0, 0, ..., 0, 0, 0]], dtype=int64)"
      ]
     },
     "execution_count": 20,
     "metadata": {},
     "output_type": "execute_result"
    }
   ],
   "source": [
    "X_train_cv.toarray()"
   ]
  },
  {
   "cell_type": "markdown",
   "id": "25acd2cd",
   "metadata": {},
   "source": [
    "## 6. Create a dictionary to get the count of every label "
   ]
  },
  {
   "cell_type": "code",
   "execution_count": 21,
   "id": "19c73022",
   "metadata": {},
   "outputs": [],
   "source": [
    "label_counts = dict()\n",
    "\n",
    "for labels in df.labels.values:\n",
    "    for label in labels:\n",
    "        if label in label_counts:\n",
    "            label_counts[label] += 1\n",
    "        else:\n",
    "            label_counts[label] = 1"
   ]
  },
  {
   "cell_type": "code",
   "execution_count": 22,
   "id": "86e9f4f6",
   "metadata": {},
   "outputs": [
    {
     "data": {
      "text/plain": [
       "{'male': 4021,\n",
       " '15': 354,\n",
       " 'Student': 577,\n",
       " 'Leo': 208,\n",
       " '33': 101,\n",
       " 'InvestmentBanking': 70,\n",
       " 'Aquarius': 351,\n",
       " 'female': 2979,\n",
       " '14': 170,\n",
       " 'indUnk': 2616,\n",
       " 'Aries': 3222,\n",
       " '25': 268,\n",
       " 'Capricorn': 88,\n",
       " '17': 914,\n",
       " 'Gemini': 88,\n",
       " '23': 142,\n",
       " 'Non-Profit': 47,\n",
       " 'Cancer': 238,\n",
       " 'Banking': 16,\n",
       " '37': 19,\n",
       " 'Sagittarius': 709,\n",
       " '26': 112,\n",
       " '24': 378,\n",
       " 'Scorpio': 854,\n",
       " '27': 691,\n",
       " 'Education': 121,\n",
       " '45': 14,\n",
       " 'Engineering': 119,\n",
       " 'Libra': 425,\n",
       " 'Science': 33,\n",
       " '34': 540,\n",
       " '41': 14,\n",
       " 'Communications-Media': 61,\n",
       " 'BusinessServices': 87,\n",
       " 'Sports-Recreation': 77,\n",
       " 'Virgo': 41,\n",
       " 'Taurus': 709,\n",
       " 'Arts': 31,\n",
       " 'Pisces': 67,\n",
       " '44': 3,\n",
       " '16': 73,\n",
       " 'Internet': 47,\n",
       " 'Museums-Libraries': 2,\n",
       " 'Accounting': 2,\n",
       " '39': 79,\n",
       " '35': 2311,\n",
       " 'Technology': 2350,\n",
       " '36': 787,\n",
       " 'Law': 3,\n",
       " '46': 7,\n",
       " 'Consulting': 18,\n",
       " 'Automotive': 14,\n",
       " '42': 14,\n",
       " 'Religion': 9,\n",
       " '13': 9,\n",
       " 'Fashion': 700}"
      ]
     },
     "execution_count": 22,
     "metadata": {},
     "output_type": "execute_result"
    }
   ],
   "source": [
    "label_counts"
   ]
  },
  {
   "cell_type": "markdown",
   "id": "44193f08",
   "metadata": {},
   "source": [
    "## 7. Convert your train and test labels using MultiLabelBinarizer"
   ]
  },
  {
   "cell_type": "code",
   "execution_count": 23,
   "id": "ba26435d",
   "metadata": {},
   "outputs": [],
   "source": [
    "mlb = MultiLabelBinarizer(classes=sorted(label_counts.keys()))\n",
    "y_train = mlb.fit_transform(y_train)\n",
    "y_test = mlb.transform(y_test)"
   ]
  },
  {
   "cell_type": "code",
   "execution_count": 24,
   "id": "1985f40f",
   "metadata": {},
   "outputs": [
    {
     "data": {
      "text/plain": [
       "array([[0, 0, 0, ..., 1, 1, 0],\n",
       "       [0, 0, 0, ..., 1, 1, 0],\n",
       "       [0, 0, 0, ..., 0, 0, 1],\n",
       "       ...,\n",
       "       [0, 0, 0, ..., 1, 0, 0],\n",
       "       [0, 0, 0, ..., 1, 1, 0],\n",
       "       [0, 0, 0, ..., 0, 0, 1]])"
      ]
     },
     "execution_count": 24,
     "metadata": {},
     "output_type": "execute_result"
    }
   ],
   "source": [
    "y_test"
   ]
  },
  {
   "cell_type": "markdown",
   "id": "e5dab082",
   "metadata": {},
   "source": [
    "## 8. Choose a classifier "
   ]
  },
  {
   "cell_type": "markdown",
   "id": "50a8ea7c",
   "metadata": {},
   "source": [
    "Use a linear classifier, wrap it up in OneVsRestClassifier to train it on every label."
   ]
  },
  {
   "cell_type": "code",
   "execution_count": 25,
   "id": "b354f7c8",
   "metadata": {},
   "outputs": [],
   "source": [
    "clf = LogisticRegression(solver='lbfgs')\n",
    "clf = OneVsRestClassifier(clf)"
   ]
  },
  {
   "cell_type": "markdown",
   "id": "3f6796ec",
   "metadata": {},
   "source": [
    "### 9. Fit the classifier, make predictions and get the accuracy"
   ]
  },
  {
   "cell_type": "code",
   "execution_count": 26,
   "id": "9d3f0ec6",
   "metadata": {},
   "outputs": [
    {
     "data": {
      "text/plain": [
       "OneVsRestClassifier(estimator=LogisticRegression())"
      ]
     },
     "execution_count": 26,
     "metadata": {},
     "output_type": "execute_result"
    }
   ],
   "source": [
    "clf.fit(X_train_cv, y_train)"
   ]
  },
  {
   "cell_type": "markdown",
   "id": "281370eb",
   "metadata": {},
   "source": [
    "### Predictions\n",
    "- Get predicted labels and scores"
   ]
  },
  {
   "cell_type": "code",
   "execution_count": 27,
   "id": "6ada7b23",
   "metadata": {},
   "outputs": [],
   "source": [
    "predicted_labels = clf.predict(X_test_cv)\n",
    "predicted_scores = clf.decision_function(X_test_cv)"
   ]
  },
  {
   "cell_type": "code",
   "execution_count": 28,
   "id": "6d356c96",
   "metadata": {},
   "outputs": [
    {
     "data": {
      "text/plain": [
       "array([[0, 0, 0, ..., 1, 1, 0],\n",
       "       [0, 0, 0, ..., 0, 0, 1],\n",
       "       [0, 0, 0, ..., 0, 0, 1],\n",
       "       ...,\n",
       "       [0, 0, 0, ..., 1, 1, 0],\n",
       "       [0, 0, 0, ..., 1, 1, 0],\n",
       "       [0, 0, 0, ..., 0, 0, 1]])"
      ]
     },
     "execution_count": 28,
     "metadata": {},
     "output_type": "execute_result"
    }
   ],
   "source": [
    "predicted_labels"
   ]
  },
  {
   "cell_type": "code",
   "execution_count": 29,
   "id": "8945cf8b",
   "metadata": {},
   "outputs": [
    {
     "data": {
      "text/plain": [
       "array([[-9.32050338, -7.60584363, -6.1873672 , ...,  5.06615342,\n",
       "         3.28580851, -5.06615342],\n",
       "       [-8.80162597, -6.04990957, -5.14632347, ..., -0.13964018,\n",
       "        -0.21544985,  0.13964018],\n",
       "       [-9.8266968 , -5.82470983, -6.03096067, ..., -4.5584783 ,\n",
       "        -4.71848738,  4.5584783 ],\n",
       "       ...,\n",
       "       [-8.81617819, -6.17224765, -5.209461  , ...,  0.51464154,\n",
       "         0.32527844, -0.51464154],\n",
       "       [-9.15751292, -6.27864861, -5.61974567, ...,  0.03687363,\n",
       "         0.05972972, -0.03687363],\n",
       "       [-8.61459193, -4.8877882 , -5.21195358, ..., -1.43377336,\n",
       "        -1.50334669,  1.43377336]])"
      ]
     },
     "execution_count": 29,
     "metadata": {},
     "output_type": "execute_result"
    }
   ],
   "source": [
    "predicted_scores"
   ]
  },
  {
   "cell_type": "markdown",
   "id": "faf9296b",
   "metadata": {},
   "source": [
    "#### Get inverse transform for predicted labels and test labels"
   ]
  },
  {
   "cell_type": "code",
   "execution_count": 30,
   "id": "e221b83a",
   "metadata": {},
   "outputs": [],
   "source": [
    "pred_inversed = mlb.inverse_transform(predicted_labels)\n",
    "y_test_inversed = mlb.inverse_transform(y_test)"
   ]
  },
  {
   "cell_type": "code",
   "execution_count": 31,
   "id": "f6ce86f3",
   "metadata": {},
   "outputs": [
    {
     "data": {
      "text/plain": [
       "[('34', 'Sagittarius', 'female', 'indUnk'),\n",
       " ('Aries', 'male'),\n",
       " ('Aries', 'male'),\n",
       " ('male',),\n",
       " ('17', 'Scorpio', 'female', 'indUnk')]"
      ]
     },
     "execution_count": 31,
     "metadata": {},
     "output_type": "execute_result"
    }
   ],
   "source": [
    "(pred_inversed[:5])"
   ]
  },
  {
   "cell_type": "code",
   "execution_count": 32,
   "id": "fd8061d8",
   "metadata": {},
   "outputs": [
    {
     "data": {
      "text/plain": [
       "[('34', 'Sagittarius', 'female', 'indUnk'),\n",
       " ('27', 'Taurus', 'female', 'indUnk'),\n",
       " ('25', 'Cancer', 'Non-Profit', 'male'),\n",
       " ('33', 'Aquarius', 'InvestmentBanking', 'male'),\n",
       " ('17', 'Scorpio', 'female', 'indUnk')]"
      ]
     },
     "execution_count": 32,
     "metadata": {},
     "output_type": "execute_result"
    }
   ],
   "source": [
    "y_test_inversed[:5]"
   ]
  },
  {
   "cell_type": "markdown",
   "id": "4e86ae35",
   "metadata": {},
   "source": [
    "### a. Print the following\n",
    "- i. Accuracy score\n",
    "- ii. F1 score\n",
    "- iii. Average precision score\n",
    "- iv. Average recall score"
   ]
  },
  {
   "cell_type": "code",
   "execution_count": 33,
   "id": "4a70e294",
   "metadata": {},
   "outputs": [],
   "source": [
    "def print_evaluation_scores(y_val, predicted):\n",
    "    print('Accuracy score: ', accuracy_score(y_val, predicted))\n",
    "    print('F1 score: ', f1_score(y_val, predicted, average='micro'))\n",
    "    print('Average precision score: ', average_precision_score(y_val, predicted, average='micro'))\n",
    "    print('Average recall score: ', recall_score(y_val, predicted, average='micro'))"
   ]
  },
  {
   "cell_type": "code",
   "execution_count": 34,
   "id": "d8a8fb7f",
   "metadata": {},
   "outputs": [
    {
     "name": "stdout",
     "output_type": "stream",
     "text": [
      "Bag-of-words\n",
      "Accuracy score:  0.3892857142857143\n",
      "F1 score:  0.6608695652173913\n",
      "Average precision score:  0.47885221674876843\n",
      "Average recall score:  0.57\n"
     ]
    }
   ],
   "source": [
    "print('Bag-of-words')\n",
    "print_evaluation_scores(y_test, predicted_labels)"
   ]
  },
  {
   "cell_type": "markdown",
   "id": "90d1a360",
   "metadata": {},
   "source": [
    "### 10. Print true label and predicted label for any five examples "
   ]
  },
  {
   "cell_type": "code",
   "execution_count": 35,
   "id": "f1239138",
   "metadata": {},
   "outputs": [
    {
     "name": "stdout",
     "output_type": "stream",
     "text": [
      "Title:\tgotta love south beach everyone knows knows work south beach used live south beach law live willing piss life away night club taking large amounts alcohol ecstasy soooo leave allowed work hotel receives glamorous shiny magazine called lincoln road businesses restaurants clubs people around lincoln road glorified strip mall beach full pretty people fabulous things dancing drinking eating loving life month one hot articles listed cover touted follows club lust urge merge sex patrons highlighted quote article walked dj booths dance floors seen girls control panels making dj happy manny hernandez photographer gotta love south beach either love leave say grin diva\n",
      "True labels:\t34,Sagittarius,female,indUnk\n",
      "Predicted labels:\t34,Sagittarius,female,indUnk\n",
      "\n",
      "\n",
      "Title:\turllink fire vegas\n",
      "True labels:\t27,Taurus,female,indUnk\n",
      "Predicted labels:\tAries,male\n",
      "\n",
      "\n",
      "Title:\twhatever put freeze pops make colours sort warning may make life bit bizarre whilst giggling good one wonders would found fire escape drinking beer fierce wind eating earlier finding doorway bar sadly closed business stopped examine office supplies catalogue arrived post lucky could possibly guessed within pages special offers lifetime certain list buy permanent marker pens get stunt kite buy lever arch files get barbecue buy plastic wallets get crate diet coke buy boxes pilot hi techpont pens get inflatable basketball set buy boxes manila envelopes get gazebo gazebo message clear forget think know world far weirder thought especially realm office supplies n\n",
      "True labels:\t25,Cancer,Non-Profit,male\n",
      "Predicted labels:\tAries,male\n",
      "\n",
      "\n",
      "Title:\tsurf english news sites lot looking tidbits korea foreigners like view hermit kingdom also way keep fast moving place sometimes though one needs check veracity figures put papers especially local ones two examples english version korea times joongang ilbo daily first pretty straightforward urllink korea times said people arrested forging korean passports urllink joongang ilbo says accused huh another one urllink joongang ilbo said p positive korean banks good thing urllink korea times said p tad worried bad loans banks extended small medium sized firms idea simple facts seem presented differently simply translation\n",
      "True labels:\t33,Aquarius,InvestmentBanking,male\n",
      "Predicted labels:\tmale\n",
      "\n",
      "\n",
      "Title:\tsomehow thought makes feel rather ill sigh love song says cold outside hands raincoat always worried things like says gonna end might well fault sleeps raining screams voice straining says baby must lonely says baby well help scared sometimes says rain gonna wash away believe got little bit something god better nothing color portrait world believes got swears moon hang quite high used sleeps raining screams voice straining says baby must lonely says baby well help scared sometimes says rain gonna wash away believe believes life made used clock wall stuck three days days thinks happiness mat sits doorway outside stopped raining says baby must lonely says baby well help scared sometimes says rain gonna wash away believe baby lonely always knew\n",
      "True labels:\t17,Scorpio,female,indUnk\n",
      "Predicted labels:\t17,Scorpio,female,indUnk\n",
      "\n",
      "\n"
     ]
    }
   ],
   "source": [
    "for i in range(5):\n",
    "    print('Title:\\t{}\\nTrue labels:\\t{}\\nPredicted labels:\\t{}\\n\\n'.format(\n",
    "        X_test[i],\n",
    "        ','.join(y_test_inversed[i]),\n",
    "        ','.join(pred_inversed[i])\n",
    "    ))"
   ]
  },
  {
   "cell_type": "code",
   "execution_count": null,
   "id": "e90d76be",
   "metadata": {},
   "outputs": [],
   "source": []
  }
 ],
 "metadata": {
  "kernelspec": {
   "display_name": "Python 3",
   "language": "python",
   "name": "python3"
  },
  "language_info": {
   "codemirror_mode": {
    "name": "ipython",
    "version": 3
   },
   "file_extension": ".py",
   "mimetype": "text/x-python",
   "name": "python",
   "nbconvert_exporter": "python",
   "pygments_lexer": "ipython3",
   "version": "3.8.8"
  }
 },
 "nbformat": 4,
 "nbformat_minor": 5
}
